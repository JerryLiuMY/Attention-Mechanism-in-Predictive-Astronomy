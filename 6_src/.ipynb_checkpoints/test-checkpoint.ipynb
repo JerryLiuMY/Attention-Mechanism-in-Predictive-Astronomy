{
 "cells": [
  {
   "cell_type": "code",
   "execution_count": 1,
   "metadata": {},
   "outputs": [
    {
     "name": "stderr",
     "output_type": "stream",
     "text": [
      "Using TensorFlow backend.\n"
     ]
    }
   ],
   "source": [
    "from keras.layers import RepeatVector, Concatenate, Dense, Dot, Softmax, Activation \n",
    "import numpy as np \n",
    "import tensorflow as tf\n",
    "import keras.backend as K\n",
    "import random \n",
    "random.seed(5)"
   ]
  },
  {
   "cell_type": "code",
   "execution_count": 2,
   "metadata": {},
   "outputs": [],
   "source": [
    "def softmax(x, axis=1):\n",
    "    e = K.exp(x - K.max(x, axis=axis, keepdims=True))\n",
    "    s = K.sum(e, axis=axis, keepdims=True)\n",
    "    return e / s"
   ]
  },
  {
   "cell_type": "code",
   "execution_count": 3,
   "metadata": {},
   "outputs": [],
   "source": [
    "repeator = RepeatVector(10)\n",
    "concatenator = Concatenate(axis=-1)\n",
    "densor = Dense(1, activation='relu')\n",
    "activator = Activation(softmax, name='attention_vec')\n",
    "# activator = Softmax(axis=1, name='attention_vec')\n",
    "dotor = Dot(axes=1)"
   ]
  },
  {
   "cell_type": "code",
   "execution_count": 4,
   "metadata": {},
   "outputs": [],
   "source": [
    "def compute_attention(a, s_prev): \n",
    "    s_prev = repeator(s_prev)\n",
    "    concat = concatenator([a, s_prev])\n",
    "    e = densor(concat)  # e: scalar - un-normalized attention weight\n",
    "    alphas = activator(e)  # alphas: scalar - normalized attention weight\n",
    "    context = dotor([alphas, a])\n",
    "    \n",
    "    return s_prev, concat, e, alphas, context"
   ]
  },
  {
   "cell_type": "code",
   "execution_count": 5,
   "metadata": {
    "scrolled": true
   },
   "outputs": [],
   "source": [
    "a = tf.convert_to_tensor((np.arange(240)/10).reshape(12, 10, 2).astype(np.float32))\n",
    "s_prev = tf.convert_to_tensor((np.arange(24)/10).reshape(12, 2).astype(np.float32))"
   ]
  },
  {
   "cell_type": "code",
   "execution_count": 6,
   "metadata": {},
   "outputs": [],
   "source": [
    "s_prev, concat, e, alphas, context = compute_attention(a, s_prev)\n",
    "s_prev_val = K.eval(s_prev)\n",
    "concat_val = K.eval(concat)\n",
    "e_val = K.eval(e)\n",
    "alphas_val = K.eval(alphas)\n",
    "context_val = K.eval(context)\n",
    "# print(e_val)\n",
    "# print(alphas_val)"
   ]
  },
  {
   "cell_type": "code",
   "execution_count": 7,
   "metadata": {
    "scrolled": true
   },
   "outputs": [
    {
     "name": "stdout",
     "output_type": "stream",
     "text": [
      "(12, 10, 2)\n",
      "(12, 10, 4)\n",
      "(12, 10, 1)\n",
      "(12, 10, 1)\n",
      "(12, 1, 2)\n"
     ]
    }
   ],
   "source": [
    "print(np.shape(s_prev_val))\n",
    "print(np.shape(concat_val))\n",
    "print(np.shape(e_val))\n",
    "print(np.shape(alphas_val))\n",
    "print(np.shape(context_val))"
   ]
  },
  {
   "cell_type": "code",
   "execution_count": 3,
   "metadata": {},
   "outputs": [],
   "source": [
    "# print(s_prev_val)\n",
    "# print(concat_val)\n",
    "# print(e_val)\n",
    "# print(alphas_val)\n",
    "# print(context_val)"
   ]
  }
 ],
 "metadata": {
  "kernelspec": {
   "display_name": "Python 3",
   "language": "python",
   "name": "python3"
  },
  "language_info": {
   "codemirror_mode": {
    "name": "ipython",
    "version": 3
   },
   "file_extension": ".py",
   "mimetype": "text/x-python",
   "name": "python",
   "nbconvert_exporter": "python",
   "pygments_lexer": "ipython3",
   "version": "3.7.3"
  }
 },
 "nbformat": 4,
 "nbformat_minor": 2
}
