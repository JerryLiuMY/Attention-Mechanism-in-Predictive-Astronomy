{
 "cells": [
  {
   "cell_type": "code",
   "execution_count": 1,
   "metadata": {},
   "outputs": [
    {
     "name": "stderr",
     "output_type": "stream",
     "text": [
      "Using TensorFlow backend.\n"
     ]
    },
    {
     "name": "stdout",
     "output_type": "stream",
     "text": [
      "carma model 1118060051368_carma_model.pkl is loaded\n",
      "carma model 1104081049591_carma_model.pkl is loaded\n",
      "carma model 1007003045309_carma_model.pkl is loaded\n",
      "carma model 1109052036713_carma_model.pkl is loaded\n",
      "carma model 1012001011298_carma_model.pkl is loaded\n",
      "carma model 2000326023025_carma_model.pkl is loaded\n",
      "carma model 2100006002614_carma_model.pkl is loaded\n",
      "carma model 2104015017473_carma_model.pkl is loaded\n",
      "carma model 1004017038032_carma_model.pkl is loaded\n",
      "carma model 1001115026824_carma_model.pkl is loaded\n",
      "carma model 1121004039565_carma_model.pkl is loaded\n"
     ]
    },
    {
     "name": "stderr",
     "output_type": "stream",
     "text": [
      "/usr/local/lib/python2.7/site-packages/matplotlib/pyplot.py:522: RuntimeWarning: More than 20 figures have been opened. Figures created through the pyplot interface (`matplotlib.pyplot.figure`) are retained until explicitly closed and may consume too much memory. (To control this warning, see the rcParam `figure.max_open_warning`).\n",
      "  max_open_warning, RuntimeWarning)\n"
     ]
    },
    {
     "name": "stdout",
     "output_type": "stream",
     "text": [
      "carma model 1115057039761_carma_model.pkl is loaded\n",
      "carma model 1135066022284_carma_model.pkl is loaded\n"
     ]
    }
   ],
   "source": [
    "from main_pipeline import MainPipeline, initialize_result_csv\n",
    "from global_setting import lightcurve_list\n",
    "# initialize_result_csv()\n",
    "for lightcurve in lightcurve_list:\n",
    "    instance = MainPipeline(lightcurve)\n",
    "    instance.prepare_individual_data()\n",
    "    instance.load_individual_data()\n",
    "    instance.run_carama()"
   ]
  },
  {
   "cell_type": "code",
   "execution_count": null,
   "metadata": {},
   "outputs": [],
   "source": []
  }
 ],
 "metadata": {
  "kernelspec": {
   "display_name": "Python 2",
   "language": "python",
   "name": "python2"
  },
  "language_info": {
   "codemirror_mode": {
    "name": "ipython",
    "version": 2
   },
   "file_extension": ".py",
   "mimetype": "text/x-python",
   "name": "python",
   "nbconvert_exporter": "python",
   "pygments_lexer": "ipython2",
   "version": "2.7.16"
  }
 },
 "nbformat": 4,
 "nbformat_minor": 2
}
