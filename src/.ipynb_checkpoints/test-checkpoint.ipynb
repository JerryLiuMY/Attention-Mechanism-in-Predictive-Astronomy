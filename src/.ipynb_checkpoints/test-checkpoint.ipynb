{
 "cells": [
  {
   "cell_type": "code",
   "execution_count": 1,
   "metadata": {},
   "outputs": [
    {
     "name": "stderr",
     "output_type": "stream",
     "text": [
      "Using TensorFlow backend.\n"
     ]
    }
   ],
   "source": [
    "from model.standard_lstm import StandardLSTM\n",
    "instance = StandardLSTM(1001115026824)\n",
    "# score = instance.fit_model()"
   ]
  },
  {
   "cell_type": "code",
   "execution_count": 2,
   "metadata": {},
   "outputs": [
    {
     "ename": "TypeError",
     "evalue": "one_step_prediction() missing 4 required positional arguments: 'train_X', 'cross_X', 'test_X', and 'mag_scaler'",
     "output_type": "error",
     "traceback": [
      "\u001b[0;31m---------------------------------------------------------------------------\u001b[0m",
      "\u001b[0;31mTypeError\u001b[0m                                 Traceback (most recent call last)",
      "\u001b[0;32m<ipython-input-2-bcf75268f9f1>\u001b[0m in \u001b[0;36m<module>\u001b[0;34m\u001b[0m\n\u001b[0;32m----> 1\u001b[0;31m \u001b[0minstance\u001b[0m\u001b[0;34m.\u001b[0m\u001b[0mone_step_prediction\u001b[0m\u001b[0;34m(\u001b[0m\u001b[0;34m)\u001b[0m\u001b[0;34m\u001b[0m\u001b[0;34m\u001b[0m\u001b[0m\n\u001b[0m",
      "\u001b[0;31mTypeError\u001b[0m: one_step_prediction() missing 4 required positional arguments: 'train_X', 'cross_X', 'test_X', and 'mag_scaler'"
     ]
    }
   ],
   "source": [
    "instance.one_step_prediction()"
   ]
  },
  {
   "cell_type": "code",
   "execution_count": null,
   "metadata": {},
   "outputs": [],
   "source": [
    "instance.multiple_step_prediction()"
   ]
  },
  {
   "cell_type": "code",
   "execution_count": 3,
   "metadata": {},
   "outputs": [
    {
     "name": "stdout",
     "output_type": "stream",
     "text": [
      "(1, 87)\n"
     ]
    }
   ],
   "source": [
    "import pickle \n",
    "with open('/Users/mingyu/Desktop/dataset/processed_data/basic/1001115026824.pickle', 'rb') as handle: \n",
    "    file = pickle.load(handle)"
   ]
  },
  {
   "cell_type": "code",
   "execution_count": null,
   "metadata": {},
   "outputs": [],
   "source": [
    "from main_pipeline import MainPipeline\n",
    "main_pipeline = MainPipeline(1001115026824)"
   ]
  },
  {
   "cell_type": "code",
   "execution_count": 1,
   "metadata": {},
   "outputs": [
    {
     "name": "stderr",
     "output_type": "stream",
     "text": [
      "Using TensorFlow backend.\n"
     ]
    }
   ],
   "source": [
    "from model import mc_dnn \n",
    "import tensorflow as tf\n",
    "from sklearn.preprocessing import StandardScaler\n",
    "import numpy as np\n",
    "from model.mc_dnn import MCDnn\n",
    "import matplotlib.pyplot as plt"
   ]
  },
  {
   "cell_type": "code",
   "execution_count": 2,
   "metadata": {},
   "outputs": [],
   "source": [
    "def build_dataset(N, noise_std=0.25, is_test=True):\n",
    "    x = np.random.rand(N, 1)\n",
    "\n",
    "    if is_test:\n",
    "        x = 8 * x - 4\n",
    "    else:\n",
    "        x = 6 * x - 3\n",
    "        x[x < 0] -= 1\n",
    "        x[x > 0] += 1\n",
    "\n",
    "    # data with noise\n",
    "    y = 0.1 * x ** 3 + np.random.normal(0, noise_std, size=(N, 1))\n",
    "\n",
    "    return x, y"
   ]
  },
  {
   "cell_type": "code",
   "execution_count": 3,
   "metadata": {},
   "outputs": [
    {
     "data": {
      "text/plain": [
       "[<matplotlib.lines.Line2D at 0x1a34a66f28>]"
      ]
     },
     "execution_count": 3,
     "metadata": {},
     "output_type": "execute_result"
    },
    {
     "data": {
      "image/png": "[encoded data removed]",
      "text/plain": [
       "<Figure size 864x576 with 1 Axes>"
      ]
     },
     "metadata": {
      "needs_background": "light"
     },
     "output_type": "display_data"
    }
   ],
   "source": [
    "# Raw Data\n",
    "x_train_val, y_train_val = build_dataset(200, noise_std=0.25, is_test=False)\n",
    "x_test, y_test = build_dataset(800, noise_std=0.25, is_test=True)\n",
    "\n",
    "# Split Data\n",
    "num_training_examples = int(0.8 * np.shape(x_train_val)[0])\n",
    "x_train = x_train_val[0:num_training_examples, :]\n",
    "y_train = y_train_val[0:num_training_examples]\n",
    "x_validation = x_train_val[num_training_examples:, :]\n",
    "y_validation = y_train_val[num_training_examples:]\n",
    "\n",
    "# Plot Data \n",
    "plt.figure(figsize=(12, 8))\n",
    "plt.plot(x_train, y_train, 'b.')"
   ]
  },
  {
   "cell_type": "code",
   "execution_count": 4,
   "metadata": {},
   "outputs": [
    {
     "name": "stdout",
     "output_type": "stream",
     "text": [
      "\n",
      "Grid search step: Tau: 0.025 Dropout rate: 0.005\n",
      "WARNING:tensorflow:From /Users/mingyu/anaconda3/lib/python3.7/site-packages/keras/backend/tensorflow_backend.py:66: The name tf.get_default_graph is deprecated. Please use tf.compat.v1.get_default_graph instead.\n",
      "\n",
      "WARNING:tensorflow:From /Users/mingyu/anaconda3/lib/python3.7/site-packages/keras/backend/tensorflow_backend.py:541: The name tf.placeholder is deprecated. Please use tf.compat.v1.placeholder instead.\n",
      "\n",
      "WARNING:tensorflow:From /Users/mingyu/anaconda3/lib/python3.7/site-packages/keras/backend/tensorflow_backend.py:3733: calling dropout (from tensorflow.python.ops.nn_ops) with keep_prob is deprecated and will be removed in a future version.\n",
      "Instructions for updating:\n",
      "Please use `rate` instead of `keep_prob`. Rate should be set to `rate = 1 - keep_prob`.\n",
      "WARNING:tensorflow:From /Users/mingyu/anaconda3/lib/python3.7/site-packages/keras/backend/tensorflow_backend.py:4432: The name tf.random_uniform is deprecated. Please use tf.random.uniform instead.\n",
      "\n",
      "WARNING:tensorflow:From /Users/mingyu/anaconda3/lib/python3.7/site-packages/keras/optimizers.py:793: The name tf.train.Optimizer is deprecated. Please use tf.compat.v1.train.Optimizer instead.\n",
      "\n",
      "WARNING:tensorflow:From /Users/mingyu/anaconda3/lib/python3.7/site-packages/keras/backend/tensorflow_backend.py:1033: The name tf.assign_add is deprecated. Please use tf.compat.v1.assign_add instead.\n",
      "\n"
     ]
    },
    {
     "name": "stderr",
     "output_type": "stream",
     "text": [
      "/Users/mingyu/Desktop/Attention-Mechanism-in-Predictive-Astronomy/src/model/mc_dnn.py:49: UserWarning: Update your `Dense` call to the Keras 2 API: `Dense(50, activation=\"relu\", kernel_regularizer=<keras.reg...)`\n",
      "  inter = Dense(self.n_hidden[0], activation='relu', W_regularizer=l2(reg))(inter)\n",
      "/Users/mingyu/Desktop/Attention-Mechanism-in-Predictive-Astronomy/src/model/mc_dnn.py:52: UserWarning: Update your `Dense` call to the Keras 2 API: `Dense(50, activation=\"relu\", kernel_regularizer=<keras.reg...)`\n",
      "  inter = Dense(self.n_hidden[i + 1], activation='relu', W_regularizer=l2(reg))(inter)\n",
      "/Users/mingyu/Desktop/Attention-Mechanism-in-Predictive-Astronomy/src/model/mc_dnn.py:54: UserWarning: Update your `Dense` call to the Keras 2 API: `Dense(1, kernel_regularizer=<keras.reg...)`\n",
      "  outputs = Dense(y_train.shape[1], W_regularizer=l2(reg))(inter)\n"
     ]
    },
    {
     "name": "stdout",
     "output_type": "stream",
     "text": [
      "WARNING:tensorflow:From /Users/mingyu/anaconda3/lib/python3.7/site-packages/keras/backend/tensorflow_backend.py:1020: The name tf.assign is deprecated. Please use tf.compat.v1.assign instead.\n",
      "\n",
      "40/40 [==============================] - 0s 554us/step\n",
      "Best log_likelihood changed to: -2.7654709157902504\n",
      "Best tau changed to: 0.025\n",
      "Best dropout rate changed to: 0.005\n",
      "\n",
      "Grid search step: Tau: 0.05 Dropout rate: 0.005\n",
      "40/40 [==============================] - 0s 865us/step\n",
      "Best log_likelihood changed to: -2.4210158247902034\n",
      "Best tau changed to: 0.05\n",
      "Best dropout rate changed to: 0.005\n",
      "\n",
      "Grid search step: Tau: 0.075 Dropout rate: 0.005\n",
      "40/40 [==============================] - 0s 1ms/step\n",
      "Best log_likelihood changed to: -2.220276354086451\n",
      "Best tau changed to: 0.075\n",
      "Best dropout rate changed to: 0.005\n",
      "\n",
      "Grid search step: Tau: 0.025 Dropout rate: 0.01\n",
      "40/40 [==============================] - 0s 2ms/step\n",
      "\n",
      "Grid search step: Tau: 0.05 Dropout rate: 0.01\n",
      "40/40 [==============================] - 0s 2ms/step\n",
      "\n",
      "Grid search step: Tau: 0.075 Dropout rate: 0.01\n",
      "40/40 [==============================] - 0s 2ms/step\n",
      "\n",
      "Grid search step: Tau: 0.025 Dropout rate: 0.05\n",
      "40/40 [==============================] - 0s 3ms/step\n",
      "\n",
      "Grid search step: Tau: 0.05 Dropout rate: 0.05\n",
      "40/40 [==============================] - 0s 3ms/step\n",
      "\n",
      "Grid search step: Tau: 0.075 Dropout rate: 0.05\n",
      "40/40 [==============================] - 0s 3ms/step\n",
      "\n",
      "Grid search step: Tau: 0.025 Dropout rate: 0.1\n",
      "40/40 [==============================] - 0s 4ms/step\n",
      "\n",
      "Grid search step: Tau: 0.05 Dropout rate: 0.1\n",
      "40/40 [==============================] - 0s 5ms/step\n",
      "\n",
      "Grid search step: Tau: 0.075 Dropout rate: 0.1\n",
      "40/40 [==============================] - 0s 5ms/step\n"
     ]
    }
   ],
   "source": [
    "# Parameters\n",
    "dropout_rates = [0.005, 0.01, 0.05, 0.1]\n",
    "tau_values = [0.025, 0.05, 0.075]\n",
    "n_hidden = 50\n",
    "num_hidden_layers = 2\n",
    "n_epochs = 5000\n",
    "batch_size=128\n",
    "\n",
    "best_network = None\n",
    "best_ll = -float('inf')\n",
    "best_tau = 0\n",
    "best_dropout = 0\n",
    "for dropout_rate in dropout_rates:\n",
    "    for tau in tau_values:\n",
    "        print('\\nGrid search step: Tau: ' + str(tau) + ' Dropout rate: ' + str(dropout_rate))\n",
    "        MC_dnn = MCDnn(n_hidden = [int(n_hidden)]*num_hidden_layers, n_epochs=n_epochs, batch_size=batch_size, tau=tau, dropout=dropout_rate)\n",
    "        MC_dnn.build_model(x_train, y_train)\n",
    "        _, _, _, ll = MC_dnn.predict(x_validation, y_validation)\n",
    "\n",
    "        if (ll > best_ll):\n",
    "            best_ll = ll\n",
    "            best_network = MC_dnn\n",
    "            best_tau = tau\n",
    "            best_dropout = dropout_rate\n",
    "            print('Best log_likelihood changed to: ' + str(best_ll))\n",
    "            print('Best tau changed to: ' + str(best_tau))\n",
    "            print('Best dropout rate changed to: ' + str(best_dropout))"
   ]
  },
  {
   "cell_type": "code",
   "execution_count": 5,
   "metadata": {},
   "outputs": [
    {
     "name": "stdout",
     "output_type": "stream",
     "text": [
      "800/800 [==============================] - 0s 244us/step\n"
     ]
    }
   ],
   "source": [
    "best_network = MCDnn([int(n_hidden)] * num_hidden_layers, n_epochs=n_epochs, tau=best_tau, dropout=best_dropout)\n",
    "best_network.build_model(x_train, y_train)\n",
    "standard_pred, MC_pred, MC_std, ll = best_network.predict(x_test, y_test)"
   ]
  },
  {
   "cell_type": "code",
   "execution_count": 6,
   "metadata": {},
   "outputs": [
    {
     "name": "stderr",
     "output_type": "stream",
     "text": [
      "/Users/mingyu/anaconda3/lib/python3.7/site-packages/ipykernel_launcher.py:2: MatplotlibDeprecationWarning: Support for passing a (n, 1)-shaped error array to errorbar() is deprecated since Matplotlib 3.1 and will be removed in 3.3; pass a 1D array instead.\n",
      "  \n"
     ]
    },
    {
     "data": {
      "text/plain": [
       "<ErrorbarContainer object of 3 artists>"
      ]
     },
     "execution_count": 6,
     "metadata": {},
     "output_type": "execute_result"
    },
    {
     "data": {
      "image/png": "[encoded data removed]",
      "text/plain": [
       "<Figure size 864x576 with 1 Axes>"
      ]
     },
     "metadata": {
      "needs_background": "light"
     },
     "output_type": "display_data"
    }
   ],
   "source": [
    "plt.figure(figsize=(12, 8))\n",
    "plt.errorbar(x_test, MC_pred, MC_std, fmt='b.', markersize=10, label='Validation')"
   ]
  },
  {
   "cell_type": "code",
   "execution_count": null,
   "metadata": {},
   "outputs": [],
   "source": [
    "MC_pred_high = (MC_pred + MC_std).reshape(800)\n",
    "MC_pred_low = (MC_pred - MC_std).reshape(800)\n",
    "x_test = x_test.reshape(800)\n",
    "plt.figure(figsize=(12, 8))\n",
    "plt.fill_between(x_test, y1=MC_pred_high, y2=MC_pred_low, alpha=0.5)"
   ]
  }
 ],
 "metadata": {
  "kernelspec": {
   "display_name": "Python 3",
   "language": "python",
   "name": "python3"
  },
  "language_info": {
   "codemirror_mode": {
    "name": "ipython",
    "version": 3
   },
   "file_extension": ".py",
   "mimetype": "text/x-python",
   "name": "python",
   "nbconvert_exporter": "python",
   "pygments_lexer": "ipython3",
   "version": "3.7.3"
  }
 },
 "nbformat": 4,
 "nbformat_minor": 2
}
