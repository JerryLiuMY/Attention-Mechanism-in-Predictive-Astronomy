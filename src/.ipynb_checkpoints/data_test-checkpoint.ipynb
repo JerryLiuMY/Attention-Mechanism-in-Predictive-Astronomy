{
 "cells": [
  {
   "cell_type": "code",
   "execution_count": 1,
   "metadata": {},
   "outputs": [],
   "source": [
    "from utils.data_processor import BasicDataProcessor, LSTMDataProcessor"
   ]
  },
  {
   "cell_type": "code",
   "execution_count": 2,
   "metadata": {},
   "outputs": [],
   "source": [
    "basic_data_processor = BasicDataProcessor()\n",
    "basic_data_processor.prepare_basic_data()"
   ]
  },
  {
   "cell_type": "code",
   "execution_count": 3,
   "metadata": {},
   "outputs": [
    {
     "name": "stdout",
     "output_type": "stream",
     "text": [
      "(87,)\n",
      "(123,)\n",
      "(175,)\n",
      "(214,)\n",
      "(135,)\n",
      "(64,)\n",
      "(84,)\n",
      "(84,)\n",
      "(165,)\n",
      "(260,)\n",
      "(231,)\n",
      "(267,)\n",
      "(168,)\n",
      "(75, 10, 2)\n",
      "(111, 10, 2)\n",
      "(163, 10, 2)\n",
      "(202, 10, 2)\n",
      "(123, 10, 2)\n",
      "(52, 10, 2)\n",
      "(72, 10, 2)\n",
      "(72, 10, 2)\n",
      "(153, 10, 2)\n",
      "(248, 10, 2)\n",
      "(219, 10, 2)\n",
      "(255, 10, 2)\n",
      "(156, 10, 2)\n"
     ]
    }
   ],
   "source": [
    "lstm_data_processor = LSTMDataProcessor()\n",
    "lstm_data_processor.prepare_rescale_mag()\n",
    "lstm_data_processor.prepare_rescale_delta_t()\n",
    "lstm_data_processor.prepare_standard_lstm_data()"
   ]
  }
 ],
 "metadata": {
  "kernelspec": {
   "display_name": "Python 3",
   "language": "python",
   "name": "python3"
  },
  "language_info": {
   "codemirror_mode": {
    "name": "ipython",
    "version": 3
   },
   "file_extension": ".py",
   "mimetype": "text/x-python",
   "name": "python",
   "nbconvert_exporter": "python",
   "pygments_lexer": "ipython3",
   "version": "3.7.3"
  }
 },
 "nbformat": 4,
 "nbformat_minor": 2
}
